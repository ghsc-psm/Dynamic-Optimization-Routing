{
 "cells": [
  {
   "cell_type": "code",
   "execution_count": 55,
   "metadata": {},
   "outputs": [],
   "source": [
    "import numpy as np\n",
    "import pandas as pd\n",
    "from openrouteservice import distance_matrix\n",
    "from openrouteservice import client\n",
    "import itertools\n",
    "import time"
   ]
  },
  {
   "cell_type": "markdown",
   "metadata": {},
   "source": [
    "### Helper Functions\n",
    "- `generate_distance_matrix`: returns distance matrix\n",
    "- To get a new api_key, go here: https://openrouteservice.org/"
   ]
  },
  {
   "cell_type": "code",
   "execution_count": 107,
   "metadata": {},
   "outputs": [],
   "source": [
    "\"\"\" Expects a dataframe with n facilities, columns Facility ID, Longitude, and Latitude. Returns n x n row dataframe \"\"\"\n",
    "\"\"\" Can change profile based on open street maps\"\"\"\n",
    "\"\"\" Return output as long or wide. If long, it will be a dataframe. \"\"\"\n",
    "\"\"\" If it's wide, it returns a dictionary with wide distance and time matrix\"\"\"\n",
    "\n",
    "def generate_distance_matrix(df, \n",
    "                       api_key = \"5b3ce3597851110001cf62487ed7ac9b82e24fa3b7f2a835b479844c\",\n",
    "                       profile = \"driving-car\",\n",
    "                       long = True):\n",
    "    api_limit = 3500\n",
    "    clnt = client.Client(key=api_key)\n",
    "    final_matrix = pd.DataFrame()\n",
    "    df = df.reset_index(drop=True) # using index to iterate\n",
    "    \n",
    "    seg=list(range(0, int(np.floor(api_limit/df.shape[0])))) if df.shape[0] ** 2 > api_limit else list(range(df.shape[0]))\n",
    "\n",
    "    # Create batch groups\n",
    "    for i in range(0, df.shape[0], len(seg)):\n",
    "        if len(seg) == 1:\n",
    "            start_df = pd.DataFrame(df.iloc[i]).T\n",
    "            end_df = df.drop(i)\n",
    "        else:\n",
    "            end = min(i+len(seg), df.shape[0])\n",
    "            end_size = i+len(seg) if i+len(seg) < df.shape[0] else df.shape[0] - i\n",
    "            start_df = pd.DataFrame(df.iloc[i:end])\n",
    "            end_df = df.drop(list(range(i, end)))\n",
    "            seg = seg[:end_size]\n",
    "\n",
    "        \n",
    "        \n",
    "        combo_first = pd.concat([start_df, end_df]).reset_index(drop=True)\n",
    "\n",
    "        locations_df = combo_first[[\"longitude\", \"latitude\"]].copy()\n",
    "        locations_list = locations_df.values.tolist()\n",
    "        request = {'locations': locations_list,\n",
    "               'profile': profile,\n",
    "               'metrics':['distance','duration'],'sources':seg,'dry_run':False}\n",
    "        # Do the request\n",
    "        matrix = clnt.distance_matrix(**request)\n",
    "        print(\"Calculated {}x{} routes.\".format(len(matrix['durations']),len(matrix['durations'][0])))\n",
    "        \n",
    "        time.sleep(1)\n",
    "        \n",
    "        lst = list(start_df[\"facility_id\"])\n",
    "        matrix_temp = pd.DataFrame({\"start\": list(itertools.chain.from_iterable(itertools.repeat(x, df.shape[0]) for x in lst)),\n",
    "              \"end\": list(combo_first[\"facility_id\"]) * len(seg),\n",
    "            \"Distance (km)\": list(itertools.chain(*matrix[\"distances\"])), \n",
    "              \"Duration (hr)\" : list(itertools.chain(*matrix[\"durations\"]))})\n",
    "        final_matrix = pd.concat([final_matrix, matrix_temp])\n",
    "        \n",
    "    final_matrix = final_matrix.reset_index(drop=True)\n",
    "    final_matrix[\"Distance (km)\"] = final_matrix[\"Distance (km)\"]/1000\n",
    "    final_matrix[\"Duration (hr)\"] = final_matrix[\"Duration (hr)\"]/3600\n",
    "    \n",
    "    if long is False:\n",
    "        dist = final_matrix.copy()\n",
    "        final_dict = dict()\n",
    "        final_dist = pd.DataFrame()\n",
    "        final_time = pd.DataFrame()\n",
    "        # This preserves order\n",
    "        unique_fac = pd.unique(dist[\"end\"])\n",
    "        for fac in unique_fac:\n",
    "            dist_temp = pd.DataFrame({str(fac): dist[dist[\"end\"] == fac][\"Distance (km)\"]}).reset_index(drop=True)\n",
    "            final_dist = pd.concat([final_dist, dist_temp], axis = 1)\n",
    "            time_temp = pd.DataFrame({str(fac): dist[dist[\"end\"] == fac][\"Duration (hr)\"]}).reset_index(drop=True)\n",
    "            final_time = pd.concat([final_time, time_temp], axis = 1)\n",
    "        final_dict[\"time\"] = final_time\n",
    "        final_dict[\"dist\"] = final_dist\n",
    "        return final_dict\n",
    "    else:\n",
    "        # Returns a single matrix\n",
    "        return final_matrix"
   ]
  },
  {
   "cell_type": "code",
   "execution_count": 108,
   "metadata": {},
   "outputs": [],
   "source": [
    "og = facility.head(10)"
   ]
  },
  {
   "cell_type": "code",
   "execution_count": 110,
   "metadata": {},
   "outputs": [
    {
     "name": "stdout",
     "output_type": "stream",
     "text": [
      "Calculated 10x10 routes.\n"
     ]
    }
   ],
   "source": [
    "# Returns dataframe\n",
    "test = generate_distance_matrix(og)"
   ]
  },
  {
   "cell_type": "code",
   "execution_count": 111,
   "metadata": {},
   "outputs": [
    {
     "name": "stdout",
     "output_type": "stream",
     "text": [
      "Calculated 10x10 routes.\n"
     ]
    }
   ],
   "source": [
    "# Returns dictionary\n",
    "test = generate_distance_matrix(og, long = False)"
   ]
  },
  {
   "cell_type": "markdown",
   "metadata": {},
   "source": [
    "## Update reference table"
   ]
  },
  {
   "cell_type": "markdown",
   "metadata": {},
   "source": [
    "### Update Facility, Distance, and Time"
   ]
  },
  {
   "cell_type": "markdown",
   "metadata": {},
   "source": [
    "#### 1. Read in old reference table and new facilities to add to the OD matrix "
   ]
  },
  {
   "cell_type": "code",
   "execution_count": 3,
   "metadata": {},
   "outputs": [],
   "source": [
    "path = \"/Users/lilianchin/Documents/usaid/zambia/Zambia Hub Analysis/streamlit/psm-distribution-route-optimizer/data/\"\n",
    "filename = \"Zambia_Reference.xlsx\"\n",
    "old_facility = pd.read_excel(path + filename, sheet_name = \"Facility\")"
   ]
  },
  {
   "cell_type": "markdown",
   "metadata": {},
   "source": [
    "##### Either transform from rfp "
   ]
  },
  {
   "cell_type": "code",
   "execution_count": 4,
   "metadata": {},
   "outputs": [],
   "source": [
    "rfp = pd.read_excel(\"/Users/lilianchin/Documents/usaid/zambia/Zambia Hub Analysis/Client Data/RFP Annex 03_Site List and Distribution Matrix_V3_13JAN2021.xlsx\", sheet_name = \"Luapula Level 2\", header=2)"
   ]
  },
  {
   "cell_type": "code",
   "execution_count": 5,
   "metadata": {},
   "outputs": [],
   "source": [
    "rfp = rfp[rfp[\"GPS Point\"].notna()]\n",
    "rfp[[\"latitude\", \"longitude\"]] = rfp[\"GPS Point\"].str.split(\",\", expand=True)\n",
    "rfp = rfp.rename(columns = {\"Drop off Station/Health Facility/DHO\": \"facility\", \"Facility Code\": \"facility_id\"})\n",
    "rfp = rfp[[\"facility\", \"facility_id\", \"latitude\", \"longitude\"]]\n",
    "new_facility = rfp[rfp.facility_id.notna()].head(10)"
   ]
  },
  {
   "cell_type": "markdown",
   "metadata": {},
   "source": [
    "##### Match Facility from master list"
   ]
  },
  {
   "cell_type": "code",
   "execution_count": 81,
   "metadata": {},
   "outputs": [],
   "source": [
    "gps = pd.read_csv(\"Zambia Facility GPS Coordinates.csv\")"
   ]
  },
  {
   "cell_type": "code",
   "execution_count": 82,
   "metadata": {},
   "outputs": [],
   "source": [
    "master_list = pd.read_excel(\"Copy of Final of Master Customer List 26th March 2021  BN.xlsx 2.xlsx\", sheet_name = \"FINAL\", header = 1)\n"
   ]
  },
  {
   "cell_type": "code",
   "execution_count": 83,
   "metadata": {},
   "outputs": [],
   "source": [
    "master_list = master_list[[\"Facility Code\", \"Facility Name\", \"Facility Type\", \"Max Characters(20).7\"]]\n",
    "master_list = master_list[master_list[\"Facility Code\"].notna()]\n",
    "master_list = master_list.rename(columns = {\"Facility Code\": \"FacilityID\", \"Facility Type\": \"type\", \"Max Characters(20).7\": \"region\"})"
   ]
  },
  {
   "cell_type": "code",
   "execution_count": 84,
   "metadata": {},
   "outputs": [],
   "source": [
    "master_list[\"FacilityID\"] = master_list[\"FacilityID\"].astype(str)\n",
    "gps[\"FacilityID\"] = gps[\"FacilityID\"].astype(str)"
   ]
  },
  {
   "cell_type": "code",
   "execution_count": 85,
   "metadata": {},
   "outputs": [],
   "source": [
    "gps = gps.merge(master_list, on = \"FacilityID\", how=\"outer\")"
   ]
  },
  {
   "cell_type": "code",
   "execution_count": 86,
   "metadata": {},
   "outputs": [
    {
     "name": "stdout",
     "output_type": "stream",
     "text": [
      "2531 total facilities. 295 of facilities missing locations. 101 with FacilityID with no facility name\n"
     ]
    }
   ],
   "source": [
    "print(f'{gps.shape[0]} total facilities. {gps[\"Final Lat\"].isna().sum()} of facilities missing locations. {gps[\"Facility Name\"].isna().sum()} with FacilityID with no facility name')"
   ]
  },
  {
   "cell_type": "code",
   "execution_count": 87,
   "metadata": {},
   "outputs": [],
   "source": [
    "gps = gps.rename(columns = {\"FacilityID\": \"facility_id\", \"Final Lat\": \"latitude\", \"Final Lon\": \"longitude\", \"Facility Name\": \"facility\"})"
   ]
  },
  {
   "cell_type": "code",
   "execution_count": 88,
   "metadata": {},
   "outputs": [],
   "source": [
    "# Grab facilities with complete coordinates\n",
    "new_facility = gps.dropna(axis=0, how=\"any\")"
   ]
  },
  {
   "cell_type": "code",
   "execution_count": 101,
   "metadata": {},
   "outputs": [],
   "source": [
    "### Only grab everything in Central and Copper - pull the rest when needed\n",
    "new_facility = new_facility[new_facility.region.isin([\"Central 1\", \"Central 2\", \"Central 3\", \"Central 4\", \"Central 5\", \"Central 6\", \"Central 7\"])]"
   ]
  },
  {
   "cell_type": "markdown",
   "metadata": {},
   "source": [
    "##### or read in excel that has columns: facility, facility_id, latitude, longitude"
   ]
  },
  {
   "cell_type": "code",
   "execution_count": null,
   "metadata": {},
   "outputs": [],
   "source": [
    "# new_facility = pd.read_excel(\"sample.xlsx\")"
   ]
  },
  {
   "cell_type": "markdown",
   "metadata": {},
   "source": [
    "#### 2. Concatenate to current facility"
   ]
  },
  {
   "cell_type": "code",
   "execution_count": 103,
   "metadata": {},
   "outputs": [],
   "source": [
    "facility = pd.concat([new_facility, old_facility]).drop_duplicates(\"facility_id\", keep=\"first\")"
   ]
  },
  {
   "cell_type": "code",
   "execution_count": 104,
   "metadata": {},
   "outputs": [],
   "source": [
    "facility[\"type\"] = facility[\"type\"].fillna(\"Health Center\")"
   ]
  },
  {
   "cell_type": "code",
   "execution_count": 105,
   "metadata": {},
   "outputs": [],
   "source": [
    "facility = facility.sort_values(\"facility\")"
   ]
  },
  {
   "cell_type": "code",
   "execution_count": 106,
   "metadata": {},
   "outputs": [
    {
     "name": "stdout",
     "output_type": "stream",
     "text": [
      "There are 282 facilities\n"
     ]
    }
   ],
   "source": [
    "print(f'There are {facility.shape[0]} facilities')"
   ]
  },
  {
   "cell_type": "markdown",
   "metadata": {},
   "source": [
    "#### 3. Find new distance and time matrix"
   ]
  },
  {
   "cell_type": "code",
   "execution_count": 115,
   "metadata": {},
   "outputs": [
    {
     "name": "stdout",
     "output_type": "stream",
     "text": [
      "Calculated 12x282 routes.\n",
      "Calculated 12x282 routes.\n",
      "Calculated 12x282 routes.\n",
      "Calculated 12x282 routes.\n",
      "Calculated 12x282 routes.\n",
      "Calculated 12x282 routes.\n",
      "Calculated 12x282 routes.\n",
      "Calculated 12x282 routes.\n",
      "Calculated 12x282 routes.\n",
      "Calculated 12x282 routes.\n",
      "Calculated 12x282 routes.\n",
      "Calculated 12x282 routes.\n",
      "Calculated 12x282 routes.\n",
      "Calculated 12x282 routes.\n",
      "Calculated 12x282 routes.\n",
      "Calculated 12x282 routes.\n",
      "Calculated 12x282 routes.\n",
      "Calculated 12x282 routes.\n",
      "Calculated 12x282 routes.\n",
      "Calculated 12x282 routes.\n",
      "Calculated 12x282 routes.\n",
      "Calculated 12x282 routes.\n",
      "Calculated 12x282 routes.\n",
      "Calculated 6x282 routes.\n"
     ]
    }
   ],
   "source": [
    "matrix = generate_distance_matrix(facility, api_key = \"5b3ce3597851110001cf62481c3558504d0942afb495c0dbfbbe3584\", long=False)"
   ]
  },
  {
   "cell_type": "code",
   "execution_count": 118,
   "metadata": {},
   "outputs": [],
   "source": [
    "dist = matrix[\"dist\"]"
   ]
  },
  {
   "cell_type": "code",
   "execution_count": 119,
   "metadata": {},
   "outputs": [],
   "source": [
    "time = matrix[\"time\"]"
   ]
  },
  {
   "cell_type": "markdown",
   "metadata": {},
   "source": [
    "#### If there are missing distances, remove those facilities from the distance and time matrix, as well as from facilities."
   ]
  },
  {
   "cell_type": "code",
   "execution_count": 132,
   "metadata": {},
   "outputs": [],
   "source": [
    "missing_facility_ids = dist.isna().sum()[dist.isna().sum() == dist.shape[0]].index"
   ]
  },
  {
   "cell_type": "code",
   "execution_count": 155,
   "metadata": {},
   "outputs": [
    {
     "name": "stdout",
     "output_type": "stream",
     "text": [
      "Index(['103005', '104012', '103026', '1060A9', '803016', '1050C9', '105000',\n",
      "       '1060F9'],\n",
      "      dtype='object')\n"
     ]
    }
   ],
   "source": [
    "print(missing_facility_ids)"
   ]
  },
  {
   "cell_type": "code",
   "execution_count": 141,
   "metadata": {},
   "outputs": [],
   "source": [
    "facility = facility[~facility.facility_id.isin(missing_facility_ids)]"
   ]
  },
  {
   "cell_type": "code",
   "execution_count": 153,
   "metadata": {},
   "outputs": [],
   "source": [
    "dist = dist.dropna(axis=1, how=\"all\").dropna(axis=0, how=\"all\")"
   ]
  },
  {
   "cell_type": "code",
   "execution_count": 154,
   "metadata": {},
   "outputs": [],
   "source": [
    "time = time.dropna(axis=1, how=\"all\").dropna(axis=0, how=\"all\")"
   ]
  },
  {
   "cell_type": "code",
   "execution_count": 156,
   "metadata": {},
   "outputs": [],
   "source": [
    "assert(facility.shape[0] == dist.shape[0])"
   ]
  },
  {
   "cell_type": "markdown",
   "metadata": {},
   "source": [
    "#### Add to existing reference table"
   ]
  },
  {
   "cell_type": "code",
   "execution_count": 157,
   "metadata": {},
   "outputs": [],
   "source": [
    "# Read in old Reference table\n",
    "cubage = pd.read_excel(path + filename, sheet_name = \"Cubage\")\n",
    "fleet = pd.read_excel(path + filename, sheet_name = \"Fleet\")\n",
    "fleet_exclusions = pd.read_excel(path + filename, sheet_name = \"Fleet Exclusions\")\n",
    "facility_groups = pd.read_excel(path + filename, sheet_name = \"Facility Groups\")\n",
    "distance_adj = pd.read_excel(path + filename, sheet_name = \"Distance Adj\")\n",
    "parameters = pd.read_excel(path + filename, sheet_name = \"Parameters\")"
   ]
  },
  {
   "cell_type": "code",
   "execution_count": 158,
   "metadata": {},
   "outputs": [],
   "source": [
    "writer = pd.ExcelWriter(\"Zambia_Reference.xlsx\", engine='xlsxwriter')\n",
    "facility.to_excel(writer, sheet_name = \"Facility\", index=False)\n",
    "dist.to_excel(writer, sheet_name = \"Distance\", index=False)\n",
    "time.to_excel(writer, sheet_name = \"Time\", index=False)\n",
    "cubage.to_excel(writer, sheet_name = \"Cubage\", index=False)\n",
    "fleet.to_excel(writer, sheet_name = \"Fleet\", index=False)\n",
    "fleet_exclusions.to_excel(writer, sheet_name = \"Fleet Exclusions\", index=False)\n",
    "facility_groups.to_excel(writer, sheet_name = \"Facility Groups\", index=False)\n",
    "distance_adj.to_excel(writer, sheet_name = \"Distance Adj\", index=False)\n",
    "parameters.to_excel(writer, sheet_name = \"Parameters\", index=False)\n",
    "writer.save()"
   ]
  },
  {
   "cell_type": "markdown",
   "metadata": {},
   "source": [
    "-------------------------------------------------------------------------------------------------------------------"
   ]
  },
  {
   "cell_type": "markdown",
   "metadata": {},
   "source": [
    "### To-do:\n",
    "\n",
    "\n",
    "1. With facility lists, check if there are new facilities that exist in OD pair. Drop it if it exists\n",
    "2. Get a new query for ones that aren't in the distance matrix (Keep track of update time)\n",
    "3. Only do facilities for certain hubs \n",
    "\n",
    "This would require updating with just new_facilities x old_facilities instead of updating everything. \n",
    "\n"
   ]
  },
  {
   "cell_type": "code",
   "execution_count": null,
   "metadata": {},
   "outputs": [],
   "source": [
    "# INCOMPLETE\n",
    "def generate_nxm_distance_matrix(new_df, old_df,\n",
    "                       api_key = \"5b3ce3597851110001cf62487ed7ac9b82e24fa3b7f2a835b479844c\",\n",
    "                       profile = \"driving-car\",\n",
    "                       long = True,\n",
    "                       distance = True):\n",
    "    api_limit = 3500\n",
    "    clnt = client.Client(key=api_key)\n",
    "    final_matrix = pd.DataFrame()\n",
    "#     df = df.reset_index(drop=True) # using index to iterate\n",
    "    \n",
    "#     seg=list(range(0, int(np.floor(api_limit/df.shape[0])))) if df.shape[0] ** 2 > api_limit else list(range(df.shape[0]))\n",
    "\n",
    "#     # Create batch groups\n",
    "#     for i in range(0, df.shape[0], len(seg)):\n",
    "#         if len(seg) == 1:\n",
    "#             start_df = pd.DataFrame(df.iloc[i]).T\n",
    "#             end_df = df.drop(i)\n",
    "#         else:\n",
    "#             end = min(i+len(seg), df.shape[0])\n",
    "#             end_size = i+len(seg) if i+len(seg) < df.shape[0] else df.shape[0] - i\n",
    "#             start_df = pd.DataFrame(df.iloc[i:end])\n",
    "#             end_df = df.drop(list(range(i, end)))\n",
    "#             seg = seg[:end_size]\n",
    "    \n",
    "        \n",
    "        \n",
    "#     combo_first = pd.concat([new_df, old_df]).reset_index(drop=True)\n",
    "#     iAll = list(range(combo_first.shape[0]))\n",
    "#     seg = iAll[:new_df.shape[0]]\n",
    "    \n",
    "    combo_first = pd.concat([new_df, old_df]).reset_index(drop=True)\n",
    "    iAll = list(range(combo_first.shape[0]))\n",
    "    seg = iAll[:new_df.shape[0]]\n",
    "    \n",
    "    locations_df = combo_first[[\"longitude\", \"latitude\"]].copy()\n",
    "    locations_list = locations_df.values.tolist()\n",
    "    request = {'locations': locations_list,\n",
    "           'profile': profile,\n",
    "           'metrics':['distance','duration'],'sources':seg,'dry_run':False}\n",
    "    # Do the request\n",
    "    matrix = clnt.distance_matrix(**request)\n",
    "    print(\"Calculated {}x{} routes.\".format(len(matrix['durations']),len(matrix['durations'][0])))\n",
    "\n",
    "#     lst = list(start_df[\"facility_id\"])\n",
    "#     matrix_temp = pd.DataFrame({\"start\": list(itertools.chain.from_iterable(itertools.repeat(x, df.shape[0]) for x in lst)),\n",
    "#           \"end\": list(combo_first[\"facility_id\"]) * len(seg),\n",
    "#         \"Distance (km)\": list(itertools.chain(*matrix[\"distances\"])), \n",
    "#           \"Duration (hr)\" : list(itertools.chain(*matrix[\"durations\"]))})\n",
    "#     final_matrix = pd.concat([final_matrix, matrix_temp])\n",
    "        \n",
    "#     final_matrix = final_matrix.reset_index(drop=True)\n",
    "#     final_matrix[\"Distance (km)\"] = final_matrix[\"Distance (km)\"]/1000\n",
    "#     final_matrix[\"Duration (hr)\"] = final_matrix[\"Duration (hr)\"]/3600\n",
    "    \n",
    "    \n",
    "            \n",
    "    return matrix"
   ]
  }
 ],
 "metadata": {
  "kernelspec": {
   "display_name": "Python 3",
   "language": "python",
   "name": "python3"
  },
  "language_info": {
   "codemirror_mode": {
    "name": "ipython",
    "version": 3
   },
   "file_extension": ".py",
   "mimetype": "text/x-python",
   "name": "python",
   "nbconvert_exporter": "python",
   "pygments_lexer": "ipython3",
   "version": "3.7.1"
  }
 },
 "nbformat": 4,
 "nbformat_minor": 4
}
